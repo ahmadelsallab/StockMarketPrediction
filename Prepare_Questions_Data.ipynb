{
 "cells": [
  {
   "cell_type": "code",
   "execution_count": 54,
   "metadata": {
    "collapsed": false
   },
   "outputs": [],
   "source": [
    "from openpyxl import load_workbook\n",
    "from DatasetBuilder.DatasetBuilder import DatasetBuilder\n",
    "import os, pickle\n",
    "\n",
    "def extract_positive_questions():\n",
    "    wb = load_workbook('./DatasetBuilder/Input/sentiment.xlsx')\n",
    "    sheet_ranges = wb.get_sheet_by_name(name = 'Question')\n",
    "    data = {}\n",
    "    row_count = sheet_ranges.max_row\n",
    "    for row in range(row_count): # +2 since the xlsx rows start at 1 and also the first row is the header and should be skipped\n",
    "        if(row >= 2):\n",
    "                data[sheet_ranges.cell('B' + str(row)).value] = {'label' : 'positiveq', \n",
    "                                                                 'text' : sheet_ranges.cell('D' + str(row)).value,\n",
    "                                                                 'words' : list(filter(lambda x: x != '' and x != 'None', \n",
    "                                                                    str(sheet_ranges.cell('I' + str(row)).value).strip().split() if sheet_ranges.cell('I' + str(row)).value != None else []+ \n",
    "                                                                    str(sheet_ranges.cell('J' + str(row)).value).strip().split() if sheet_ranges.cell('J' + str(row)).value != None else []+\n",
    "                                                                    str(sheet_ranges.cell('K' + str(row)).value).strip().split() if sheet_ranges.cell('K' + str(row)).value != None else []+\n",
    "                                                                    str(sheet_ranges.cell('L' + str(row)).value).strip().split() if sheet_ranges.cell('L' + str(row)).value != None else []+\n",
    "                                                                    str(sheet_ranges.cell('M' + str(row)).value).strip().split() if sheet_ranges.cell('H' + str(row)).value != None else []\n",
    "                                                                ))}\n",
    "    return data\n",
    "\n",
    "def extract_negative_questions(positive, n_data):\n",
    "    configFileDatasetBuilder = os.path.join('DatasetBuilder','Configurations','Configurations.xml')\n",
    "    datasetSerializationFile = os.path.join('DatasetBuilder','Output', 'dataset.bin')\n",
    "\n",
    "    datasetBuilder = DatasetBuilder(configFileDatasetBuilder, [], datasetSerializationFile)\n",
    "    dataset = None\n",
    "\n",
    "    #if not backend:\n",
    "    xlsxTrainFileName = os.path.join('DatasetBuilder','Input','sentiment')\n",
    "    dataset = datasetBuilder.GetSentimentDatasetFromXLSXFile(xlsxTrainFileName)\n",
    "    negative = {}\n",
    "    #while n_negative < n_data:\n",
    "    for key in dataset:\n",
    "        if key not in positive:\n",
    "            row = dataset[key]\n",
    "            negative[key] = {'text': row['text'], 'label': 'negativeq'}\n",
    "        if len(negative) >= n_data:\n",
    "            break\n",
    "            \n",
    "    return negative\n",
    "\n",
    "def save_dict(positive_data, path):\n",
    "    pdict = list(set([w for ws in positive_data.values() for w in ws['words']]))\n",
    "    pickle.dump(pdict, open(path, 'wb'))\n",
    "    return pdict\n",
    "\n",
    "def save():\n",
    "    pass"
   ]
  },
  {
   "cell_type": "code",
   "execution_count": 55,
   "metadata": {
    "collapsed": false
   },
   "outputs": [
    {
     "name": "stdout",
     "output_type": "stream",
     "text": [
      "['تحققت', 'ايه', 'بي', 'نبي', 'ودحدر', 'اموال', 'استني', 'ب٣٠', 'رفع', 'لوسمحت', 'الأعلان', 'مرارة', 'تصريف', 'مابي', 'يسلمك', 'أمكن', 'زي', 'دخول', 'بأعلان', 'بشرى', 'الفترة', 'ماهو', 'خير', 'تحت', 'من', 'ريال', 'غير', 'الصداع', 'ارباح', 'علمها', 'توضحلي', 'بخساره', 'نشتري', 'توزيع', 'رايح', 'توقعاتك', 'ما', 'وضع', 'اعلان', 'خلل', 'تصحيح', 'خسران', 'متعلقه', 'الخروج', 'هدف', 'القاع', 'بكم', 'عندك', 'ش', 'بخسارة', 'بسعر', 'التصريف', 'تتوقع', 'سسسسلبي', 'وخروج', 'طلع', 'به', 'تقصد', 'توافقني', 'لي', '28', 'القوية', 'تمنى', 'خنزيره', 'تعلقت', 'نسب', 'وش', 'الذهب', 'قاع', 'تشوف', 'كم', 'شكري', 'كيف', 'مجدي', 'خبريني', 'عن', 'ممتاز', 'طريق', 'الشراء', 'نتائج', 'شنهو', 'طبلت', 'استفاد', 'الديك', 'ب', 'شفت', 'يلجأ', 'اول', 'وصل', 'عبث', 'الدايلي', 'تستفيد', 'بعدم', 'متعلقين', 'نظام', 'اعرف', 'يزهق', 'لا', 'طايحة؟', 'أتخلص', 'نصبر', 'ولا', 'امل', 'ردك', 'خلال', 'للقاع', 'انتهت', 'مشتراي', 'يشترون', 'تعطني', 'تشوفه', '?', 'دخلتنا', 'تراجع', '؟', 'نقاط', 'الاراضي', 'بالله', 'انتظر', 'تكرمت', 'رأيك', 'ممكن', 'ندخل', '???', 'اهدفها', 'داخلينه', 'يخرج', 'الايجابية', 'ابيعها', 'شراء', 'عجيب', 'ستعود', 'طفشنا', 'ابي', 'يرفعه', 'منك', 'إن', 'لديك', 'ابيع', 'لو', 'نزوله', 'شوفلي', 'اخر', 'شف', 'هل', 'ننتظر', 'المطنوخ', 'تصريحاتك', 'لن', 'ضعه', 'سمحت', 'دخولي', 'تعرف', 'الأنطلاقة', 'تتفلسف', 'وضعه', 'ماريئك', 'اشتري', 'بكراعينا', 'الغالي', 'أو', 'اشكرك', 'مستقبلها', 'للشراء', 'له', 'تعليقك', 'ايش', 'تفيدني', 'علومه', 'طفرة', 'بزيادة', 'اروح', 'فوق', 'العطاء', 'مامصير', 'متعلق', 'تشتت', 'امر', 'مستقبل', 'حلل', 'رسوم', 'ارباحها', 'مخرج', 'فزه', 'لاتنسى', 'الهدف', 'سلبي؟', 'تحليلك', 'لاهنت', 'رايك', 'نبيعه', 'وإلا', 'يهمني', 'اطلع', 'حرام', 'فيها', 'مغري', 'الخسارة', 'تغرر', 'ملغية', 'توضيح', 'فيه', 'تنجح', 'تنصح', 'تورطنا', 'ضغطي', 'زيادة؟', 'خسارتي', 'رائيك', 'خايف', 'صار', 'يا', 'غيره', 'مستهدفات', 'المرصوده', 'رد', 'مطنوخ', 'هبط', 'الحاصل', 'تحليل', 'مانشتري', 'ارتفاع', 'الا', 'كنتائج', 'لماذا', 'اغلاق', 'بيصير', 'للمنح', 'في']\n"
     ]
    }
   ],
   "source": [
    "positive = extract_positive_questions()\n",
    "path_dict = os.path.join('data', 'questions_dict.bin')\n",
    "print(save_dict(positive, path_dict))\n",
    "negative = extract_negative_questions(positive, len(positive))\n",
    "\n",
    "#extract_negative_questions(data, 10)"
   ]
  },
  {
   "cell_type": "code",
   "execution_count": 49,
   "metadata": {
    "collapsed": false
   },
   "outputs": [
    {
     "name": "stdout",
     "output_type": "stream",
     "text": [
      "Positive Samples:  326\n",
      "Negative Samples:  326\n"
     ]
    }
   ],
   "source": [
    "print('Positive Samples: ', len(positive))\n",
    "print('Negative Samples: ', len(negative))"
   ]
  },
  {
   "cell_type": "code",
   "execution_count": 59,
   "metadata": {
    "collapsed": false
   },
   "outputs": [],
   "source": [
    "data = list(positive.values()) + list(negative.values())\n",
    "path = os.path.join('data', 'questions_dataset.bin')\n",
    "pickle.dump(data, open(path, 'wb'))"
   ]
  },
  {
   "cell_type": "code",
   "execution_count": null,
   "metadata": {
    "collapsed": true
   },
   "outputs": [],
   "source": []
  }
 ],
 "metadata": {
  "kernelspec": {
   "display_name": "Django Shell-Plus",
   "language": "python",
   "name": "django_extensions"
  },
  "language_info": {
   "codemirror_mode": {
    "name": "ipython",
    "version": 3
   },
   "file_extension": ".py",
   "mimetype": "text/x-python",
   "name": "python",
   "nbconvert_exporter": "python",
   "pygments_lexer": "ipython3",
   "version": "3.4.3"
  }
 },
 "nbformat": 4,
 "nbformat_minor": 0
}
